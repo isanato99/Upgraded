{
 "cells": [
  {
   "cell_type": "code",
   "execution_count": 1,
   "metadata": {},
   "outputs": [],
   "source": [
    "import numpy as np\n",
    "import pandas as pd\n",
    "import os"
   ]
  },
  {
   "cell_type": "code",
   "execution_count": 2,
   "metadata": {},
   "outputs": [],
   "source": [
    "df_musica = pd.read_csv('listas_musica.csv')"
   ]
  },
  {
   "cell_type": "code",
   "execution_count": 3,
   "metadata": {},
   "outputs": [],
   "source": [
    "df_musica.fillna(0, inplace=True)"
   ]
  },
  {
   "cell_type": "code",
   "execution_count": 4,
   "metadata": {},
   "outputs": [
    {
     "data": {
      "text/html": [
       "<div>\n",
       "<style scoped>\n",
       "    .dataframe tbody tr th:only-of-type {\n",
       "        vertical-align: middle;\n",
       "    }\n",
       "\n",
       "    .dataframe tbody tr th {\n",
       "        vertical-align: top;\n",
       "    }\n",
       "\n",
       "    .dataframe thead th {\n",
       "        text-align: right;\n",
       "    }\n",
       "</style>\n",
       "<table border=\"1\" class=\"dataframe\">\n",
       "  <thead>\n",
       "    <tr style=\"text-align: right;\">\n",
       "      <th></th>\n",
       "      <th>date</th>\n",
       "      <th>rank</th>\n",
       "      <th>song</th>\n",
       "      <th>artist</th>\n",
       "      <th>last-week</th>\n",
       "      <th>peak-rank</th>\n",
       "      <th>weeks-on-board</th>\n",
       "    </tr>\n",
       "  </thead>\n",
       "  <tbody>\n",
       "    <tr>\n",
       "      <th>330079</th>\n",
       "      <td>1958-08-04</td>\n",
       "      <td>93</td>\n",
       "      <td>Are You Really Mine</td>\n",
       "      <td>Jimmie Rodgers</td>\n",
       "      <td>0.0</td>\n",
       "      <td>93</td>\n",
       "      <td>1</td>\n",
       "    </tr>\n",
       "    <tr>\n",
       "      <th>330080</th>\n",
       "      <td>1958-08-04</td>\n",
       "      <td>94</td>\n",
       "      <td>She Was Only Seventeen (He Was One Year More)</td>\n",
       "      <td>Marty Robbins</td>\n",
       "      <td>0.0</td>\n",
       "      <td>94</td>\n",
       "      <td>1</td>\n",
       "    </tr>\n",
       "    <tr>\n",
       "      <th>330081</th>\n",
       "      <td>1958-08-04</td>\n",
       "      <td>95</td>\n",
       "      <td>Little Mary</td>\n",
       "      <td>Fats Domino</td>\n",
       "      <td>0.0</td>\n",
       "      <td>95</td>\n",
       "      <td>1</td>\n",
       "    </tr>\n",
       "    <tr>\n",
       "      <th>330082</th>\n",
       "      <td>1958-08-04</td>\n",
       "      <td>96</td>\n",
       "      <td>Over And Over</td>\n",
       "      <td>Thurston Harris</td>\n",
       "      <td>0.0</td>\n",
       "      <td>96</td>\n",
       "      <td>1</td>\n",
       "    </tr>\n",
       "    <tr>\n",
       "      <th>330083</th>\n",
       "      <td>1958-08-04</td>\n",
       "      <td>97</td>\n",
       "      <td>I Believe In You</td>\n",
       "      <td>Robert &amp; Johnny</td>\n",
       "      <td>0.0</td>\n",
       "      <td>97</td>\n",
       "      <td>1</td>\n",
       "    </tr>\n",
       "    <tr>\n",
       "      <th>330084</th>\n",
       "      <td>1958-08-04</td>\n",
       "      <td>98</td>\n",
       "      <td>Little Serenade</td>\n",
       "      <td>The Ames Brothers</td>\n",
       "      <td>0.0</td>\n",
       "      <td>98</td>\n",
       "      <td>1</td>\n",
       "    </tr>\n",
       "    <tr>\n",
       "      <th>330085</th>\n",
       "      <td>1958-08-04</td>\n",
       "      <td>99</td>\n",
       "      <td>I'll Get By (As Long As I Have You)</td>\n",
       "      <td>Billy Williams</td>\n",
       "      <td>0.0</td>\n",
       "      <td>99</td>\n",
       "      <td>1</td>\n",
       "    </tr>\n",
       "    <tr>\n",
       "      <th>330086</th>\n",
       "      <td>1958-08-04</td>\n",
       "      <td>100</td>\n",
       "      <td>Judy</td>\n",
       "      <td>Frankie Vaughan</td>\n",
       "      <td>0.0</td>\n",
       "      <td>100</td>\n",
       "      <td>1</td>\n",
       "    </tr>\n",
       "  </tbody>\n",
       "</table>\n",
       "</div>"
      ],
      "text/plain": [
       "              date  rank                                           song  \\\n",
       "330079  1958-08-04    93                            Are You Really Mine   \n",
       "330080  1958-08-04    94  She Was Only Seventeen (He Was One Year More)   \n",
       "330081  1958-08-04    95                                    Little Mary   \n",
       "330082  1958-08-04    96                                  Over And Over   \n",
       "330083  1958-08-04    97                               I Believe In You   \n",
       "330084  1958-08-04    98                                Little Serenade   \n",
       "330085  1958-08-04    99            I'll Get By (As Long As I Have You)   \n",
       "330086  1958-08-04   100                                           Judy   \n",
       "\n",
       "                   artist  last-week  peak-rank  weeks-on-board  \n",
       "330079     Jimmie Rodgers        0.0         93               1  \n",
       "330080      Marty Robbins        0.0         94               1  \n",
       "330081        Fats Domino        0.0         95               1  \n",
       "330082    Thurston Harris        0.0         96               1  \n",
       "330083    Robert & Johnny        0.0         97               1  \n",
       "330084  The Ames Brothers        0.0         98               1  \n",
       "330085     Billy Williams        0.0         99               1  \n",
       "330086    Frankie Vaughan        0.0        100               1  "
      ]
     },
     "execution_count": 4,
     "metadata": {},
     "output_type": "execute_result"
    }
   ],
   "source": [
    "df_musica.tail(8)"
   ]
  },
  {
   "cell_type": "markdown",
   "metadata": {},
   "source": [
    "### TOP 30 CANCIONES"
   ]
  },
  {
   "cell_type": "code",
   "execution_count": 6,
   "metadata": {},
   "outputs": [
    {
     "name": "stdout",
     "output_type": "stream",
     "text": [
      "artist\n",
      "Taylor Swift             1023\n",
      "Elton John                889\n",
      "Madonna                   857\n",
      "Drake                     787\n",
      "Kenny Chesney             769\n",
      "Tim McGraw                731\n",
      "Keith Urban               673\n",
      "Stevie Wonder             659\n",
      "Rod Stewart               657\n",
      "Mariah Carey              621\n",
      "Michael Jackson           611\n",
      "Chicago                   607\n",
      "Rascal Flatts             604\n",
      "Billy Joel                588\n",
      "The Beatles               585\n",
      "The Rolling Stones        585\n",
      "Jason Aldean              572\n",
      "Aretha Franklin           569\n",
      "Rihanna                   566\n",
      "P!nk                      564\n",
      "Whitney Houston           561\n",
      "Brad Paisley              559\n",
      "George Strait             553\n",
      "Neil Diamond              553\n",
      "Luke Bryan                543\n",
      "Carrie Underwood          541\n",
      "Daryl Hall John Oates     540\n",
      "The Beach Boys            531\n",
      "Toby Keith                526\n",
      "Bee Gees                  516\n",
      "Name: count, dtype: int64\n"
     ]
    }
   ],
   "source": [
    "top_30 = df_musica['artist'].value_counts().head(30)\n",
    "print(top_30)"
   ]
  },
  {
   "cell_type": "markdown",
   "metadata": {},
   "source": [
    "### TOP 15 CANCIONES Y ARTISTAS"
   ]
  },
  {
   "cell_type": "code",
   "execution_count": 8,
   "metadata": {},
   "outputs": [
    {
     "name": "stdout",
     "output_type": "stream",
     "text": [
      "\n",
      "Top 15 canciones y artistas:\n",
      "                       song                                 artist\n",
      "0                Easy On Me                                  Adele\n",
      "1                      Stay          The Kid LAROI & Justin Bieber\n",
      "2             Industry Baby                Lil Nas X & Jack Harlow\n",
      "3                Fancy Like                           Walker Hayes\n",
      "4                Bad Habits                             Ed Sheeran\n",
      "5                Way 2 Sexy    Drake Featuring Future & Young Thug\n",
      "6                   Shivers                             Ed Sheeran\n",
      "7                  Good 4 U                         Olivia Rodrigo\n",
      "8              Need To Know                               Doja Cat\n",
      "9                Levitating                               Dua Lipa\n",
      "10                  Essence  Wizkid Featuring Justin Bieber & Tems\n",
      "11             Kiss Me More                 Doja Cat Featuring SZA\n",
      "12               Heat Waves                          Glass Animals\n",
      "13                  Beggin'                               Maneskin\n",
      "14  Cold Heart (PNAU Remix)                  Elton John & Dua Lipa\n"
     ]
    }
   ],
   "source": [
    "top_15_songs = df_musica[['song', 'artist']].head(15)\n",
    "print(\"\\nTop 15 canciones y artistas:\")\n",
    "print(top_15_songs)\n",
    "\n",
    "\n"
   ]
  },
  {
   "cell_type": "markdown",
   "metadata": {},
   "source": [
    "### TOP 10 ARTISTAS, CANCIÓN Y POSICIÓN"
   ]
  },
  {
   "cell_type": "code",
   "execution_count": 12,
   "metadata": {},
   "outputs": [
    {
     "name": "stdout",
     "output_type": "stream",
     "text": [
      "Top 10 artistas, canción y posición:\n",
      "               artist                                               song  \\\n",
      "3300            Drake                                        What's Next   \n",
      "124300     Elton John  Candle In The Wind 1997/Something About The Wa...   \n",
      "64715     Keith Urban                                        Kiss A Girl   \n",
      "64615   Kenny Chesney                                     Out Last Night   \n",
      "110000        Madonna                                              Music   \n",
      "4400     Mariah Carey                    All I Want For Christmas Is You   \n",
      "222700    Rod Stewart                              Da Ya Think I'm Sexy?   \n",
      "187900  Stevie Wonder                                    Part-Time Lover   \n",
      "4500     Taylor Swift                                             Willow   \n",
      "117509     Tim McGraw                                 Please Remember Me   \n",
      "\n",
      "        peak-rank  \n",
      "3300            1  \n",
      "124300          1  \n",
      "64715          16  \n",
      "64615          16  \n",
      "110000          1  \n",
      "4400            1  \n",
      "222700          1  \n",
      "187900          1  \n",
      "4500            1  \n",
      "117509         10  \n"
     ]
    }
   ],
   "source": [
    "top_artistas = df_musica['artist'].value_counts().head(10).index\n",
    "df_top_artistas = df_musica[df_musica['artist'].isin(top_artistas)]\n",
    "resultados_top = (\n",
    "    df_top_artistas.loc[df_top_artistas.groupby('artist')['rank'].idxmin()]\n",
    "    [['artist', 'song', 'peak-rank']]\n",
    ")\n",
    "\n",
    "print(\"Top 10 artistas, canción y posición:\")\n",
    "print(resultados_top)\n",
    "\n"
   ]
  },
  {
   "cell_type": "markdown",
   "metadata": {},
   "source": [
    "### ARTISTAS MÁS REPRODUCIDOS POR SEMANAS"
   ]
  },
  {
   "cell_type": "code",
   "execution_count": 13,
   "metadata": {},
   "outputs": [
    {
     "name": "stdout",
     "output_type": "stream",
     "text": [
      "            rank                                 song  \\\n",
      "date                                                    \n",
      "2021-11-06     1                           Easy On Me   \n",
      "2021-11-06     2                                 Stay   \n",
      "2021-11-06     3                        Industry Baby   \n",
      "2021-11-06     4                           Fancy Like   \n",
      "2021-11-06     5                           Bad Habits   \n",
      "...          ...                                  ...   \n",
      "1958-08-04    96                        Over And Over   \n",
      "1958-08-04    97                     I Believe In You   \n",
      "1958-08-04    98                      Little Serenade   \n",
      "1958-08-04    99  I'll Get By (As Long As I Have You)   \n",
      "1958-08-04   100                                 Judy   \n",
      "\n",
      "                                   artist  last-week  peak-rank  \\\n",
      "date                                                              \n",
      "2021-11-06                          Adele        1.0          1   \n",
      "2021-11-06  The Kid LAROI & Justin Bieber        2.0          1   \n",
      "2021-11-06        Lil Nas X & Jack Harlow        3.0          1   \n",
      "2021-11-06                   Walker Hayes        4.0          3   \n",
      "2021-11-06                     Ed Sheeran        5.0          2   \n",
      "...                                   ...        ...        ...   \n",
      "1958-08-04                Thurston Harris        0.0         96   \n",
      "1958-08-04                Robert & Johnny        0.0         97   \n",
      "1958-08-04              The Ames Brothers        0.0         98   \n",
      "1958-08-04                 Billy Williams        0.0         99   \n",
      "1958-08-04                Frankie Vaughan        0.0        100   \n",
      "\n",
      "            weeks-on-board  \n",
      "date                        \n",
      "2021-11-06               3  \n",
      "2021-11-06              16  \n",
      "2021-11-06              14  \n",
      "2021-11-06              19  \n",
      "2021-11-06              18  \n",
      "...                    ...  \n",
      "1958-08-04               1  \n",
      "1958-08-04               1  \n",
      "1958-08-04               1  \n",
      "1958-08-04               1  \n",
      "1958-08-04               1  \n",
      "\n",
      "[330087 rows x 6 columns]\n"
     ]
    }
   ],
   "source": [
    "df_musica['date'] = pd.to_datetime(df_musica['date'])\n",
    "df_musica.set_index('date', inplace=True)\n",
    "print(df_musica)"
   ]
  },
  {
   "cell_type": "markdown",
   "metadata": {},
   "source": [
    "### ARTISTAS MÁS Y MENOS ESCUCHADOS"
   ]
  }
 ],
 "metadata": {
  "kernelspec": {
   "display_name": "Isabella",
   "language": "python",
   "name": "python3"
  },
  "language_info": {
   "codemirror_mode": {
    "name": "ipython",
    "version": 3
   },
   "file_extension": ".py",
   "mimetype": "text/x-python",
   "name": "python",
   "nbconvert_exporter": "python",
   "pygments_lexer": "ipython3",
   "version": "3.10.11"
  }
 },
 "nbformat": 4,
 "nbformat_minor": 2
}
