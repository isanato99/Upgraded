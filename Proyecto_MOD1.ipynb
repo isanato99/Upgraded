{
 "cells": [
  {
   "cell_type": "markdown",
   "metadata": {},
   "source": [
    "# Titanic\n",
    "\n",
    "Se adjunta un dataset sobre el desastre del Titanic para hacer ejercicios libres.\n",
    "\n",
    "Algunos ejercicios que puedes llegar a realizar son:\n",
    "\n",
    "* Ver el número de valores nulos\n",
    "* Representar el porcentaje de filas con atributos nulos.\n",
    "* Limpieza de columnas.\n",
    "* Saber la edad mínima y máxima de las personas del barco.\n",
    "* Conocer la mediana de las edades.\n",
    "* Ver los precios (columna `fares`) más altos y bajos.\n",
    "* Número de pasajeros embarcados (columna `Embarked`).\n",
    "* Ver la distribución de sexos en las personas embarcadas.\n"
   ]
  }
 ],
 "metadata": {
  "kernelspec": {
   "display_name": "Isabella",
   "language": "python",
   "name": "python3"
  },
  "language_info": {
   "codemirror_mode": {
    "name": "ipython",
    "version": 3
   },
   "file_extension": ".py",
   "mimetype": "text/x-python",
   "name": "python",
   "nbconvert_exporter": "python",
   "pygments_lexer": "ipython3",
   "version": "3.10.11"
  }
 },
 "nbformat": 4,
 "nbformat_minor": 2
}
